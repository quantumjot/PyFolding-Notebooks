{
 "cells": [
  {
   "cell_type": "markdown",
   "metadata": {},
   "source": [
    "# Displaying details of the included models & equations\n",
    "\n",
    "---\n",
    "\n",
    "[Author] ERGM\n",
    "\n",
    "---\n",
    "\n",
    "A number of functions can be used to display the equations for the various models already encoded in Pyfolding.\n",
    "\n",
    "1. We can list all of the models available by calling the ```list_models``` function.\n",
    "\n",
    "2. If we want to know any further information, we can print individual equations as each function has a pre-formatted $\\LaTeX$ equation. This can be displayed using the ```print_equation()``` function. \n",
    "\n",
    "3. If we would like to get further details, for example the arguments of the equation, we can get those easily by request the fit function arguments using the ```fit_func_args``` function.\n",
    "---\n",
    "\n",
    "#### First off lets load pyfolding into this ipython notebook:"
   ]
  },
  {
   "cell_type": "code",
   "execution_count": 1,
   "metadata": {},
   "outputs": [
    {
     "data": {
      "application/javascript": [
       "\n",
       "\tIPython.OutputArea.prototype._should_scroll = function(lines) {\n",
       "\t    return false;\n",
       "\t}\n",
       "\t"
      ],
      "text/plain": [
       "<IPython.core.display.Javascript object>"
      ]
     },
     "metadata": {},
     "output_type": "display_data"
    },
    {
     "name": "stdout",
     "output_type": "stream",
     "text": [
      "PyFolding: Jupyter autoscrolling has been disabled\n"
     ]
    }
   ],
   "source": [
    "# The following two command lines are always required for the correct running of PyFolding\n",
    "\n",
    "# this command causes figures to be plotted inline with the text\n",
    "%matplotlib inline\n",
    "\n",
    "# this command imports all pyfolding models and pyfolding ising models\n",
    "import pyfolding\n",
    "from pyfolding import *\n"
   ]
  },
  {
   "cell_type": "markdown",
   "metadata": {},
   "source": [
    "---\n",
    "#### Now lets list all the models available in pyfolding {does not list the Ising model}\n",
    "\n"
   ]
  },
  {
   "cell_type": "code",
   "execution_count": 2,
   "metadata": {},
   "outputs": [
    {
     "data": {
      "text/plain": [
       "[('ChevronPolynomialFit', 'Verified: True'),\n",
       " ('HeteropolymerIsingEquilibrium', 'Verified: False'),\n",
       " ('HomozipperIsingEquilibrium', 'Verified: True'),\n",
       " ('ParallelTwoStateChevron', 'Verified: False'),\n",
       " ('ParallelTwoStateUnfoldingChevron', 'Verified: False'),\n",
       " ('TemplateModel', 'Verified: False'),\n",
       " ('ThreeStateChevron', 'Verified: True'),\n",
       " ('ThreeStateDimericIEquilibrium', 'Verified: True'),\n",
       " ('ThreeStateEquilibrium', 'Verified: True'),\n",
       " ('ThreeStateFastPhaseChevron', 'Verified: True'),\n",
       " ('ThreeStateMonoIEquilibrium', 'Verified: True'),\n",
       " ('ThreeStateSequentialChevron', 'Verified: True'),\n",
       " ('TwoStateChevron', 'Verified: True'),\n",
       " ('TwoStateChevronMovingTransition', 'Verified: True'),\n",
       " ('TwoStateDimerEquilibrium', 'Verified: True'),\n",
       " ('TwoStateEquilibrium', 'Verified: True'),\n",
       " ('TwoStateEquilibriumSloping', 'Verified: True')]"
      ]
     },
     "execution_count": 2,
     "metadata": {},
     "output_type": "execute_result"
    }
   ],
   "source": [
    "# Command imports pyfolding models\n",
    "from pyfolding.models import *\n",
    "\n",
    "# command lists models\n",
    "list_models()\n",
    "\n",
    "# After the model name:\n",
    "#'Verified: True' signifies that we have tested the model and it functions as expected.\n",
    "#'Verified:False' signifies that the model has not been tested."
   ]
  },
  {
   "cell_type": "markdown",
   "metadata": {},
   "source": [
    "---\n",
    "#### Print individual equations\n",
    "\n",
    "If we want to know any further information, we can print each equation using the *Print_equation*: "
   ]
  },
  {
   "cell_type": "code",
   "execution_count": 3,
   "metadata": {},
   "outputs": [
    {
     "data": {
      "text/latex": [
       "$$F = \\frac{\\exp( m(x-d_{50})) / RT} { 1+\\exp(m(x-d_{50}))/RT}$$"
      ],
      "text/plain": [
       "<IPython.core.display.Math object>"
      ]
     },
     "metadata": {},
     "output_type": "display_data"
    },
    {
     "name": "stdout",
     "output_type": "stream",
     "text": [
      " Two state equilibrium denaturation curve - No sloping baseline.\n",
      "\n",
      "\tFolding Scheme:\n",
      "\t\tN <-> D\n",
      "\n",
      "\tParams:\n",
      "\t\tF = Fraction unfolded\n",
      "\t\tm = m-value\n",
      "\t\tx = denaturant concentration (M)\n",
      "\t\td50 = denaturant midpoint (M)\n",
      "\t\tR = Universal Gas Constant (kcal.mol-1.K-1)\n",
      "\t\tT = Temperature (Kelvin)\n",
      "\n",
      "\tReference:\n",
      "\t\tClarke and Fersht. Engineered disulfide bonds as probes of\n",
      "\t\tthe folding pathway of barnase: Increasing the stability\n",
      "\t\tof proteins against the rate of denaturation.\n",
      "\t\tBiochemistry (1993) vol. 32 (16) pp. 4322-4329\n",
      "\t\n"
     ]
    }
   ],
   "source": [
    "# The function has two parts:\n",
    "# part1 states the model you want to print: \"******()\"\n",
    "# part2 prints equation: \".print_equation()\"\n",
    "# as an example I have printed a two-state kinetic folding model:\n",
    "# print the info\n",
    "models.TwoStateEquilibrium().info()\n"
   ]
  },
  {
   "cell_type": "code",
   "execution_count": 4,
   "metadata": {},
   "outputs": [
    {
     "data": {
      "text/latex": [
       "$$F = \\frac{\\exp( m(x-d_{50})) / RT} { 1+\\exp(m(x-d_{50}))/RT}$$"
      ],
      "text/plain": [
       "<IPython.core.display.Math object>"
      ]
     },
     "metadata": {},
     "output_type": "display_data"
    },
    {
     "name": "stdout",
     "output_type": "stream",
     "text": [
      " Two state equilibrium denaturation curve - No sloping baseline.\n",
      "\n",
      "\tFolding Scheme:\n",
      "\t\tN <-> D\n",
      "\n",
      "\tParams:\n",
      "\t\tF = Fraction unfolded\n",
      "\t\tm = m-value\n",
      "\t\tx = denaturant concentration (M)\n",
      "\t\td50 = denaturant midpoint (M)\n",
      "\t\tR = Universal Gas Constant (kcal.mol-1.K-1)\n",
      "\t\tT = Temperature (Kelvin)\n",
      "\n",
      "\tReference:\n",
      "\t\tClarke and Fersht. Engineered disulfide bonds as probes of\n",
      "\t\tthe folding pathway of barnase: Increasing the stability\n",
      "\t\tof proteins against the rate of denaturation.\n",
      "\t\tBiochemistry (1993) vol. 32 (16) pp. 4322-4329\n",
      "\t\n"
     ]
    },
    {
     "data": {
      "text/latex": [
       "$$\\begin{equation} \\\n",
       "\t\t\t\t\\begin{aligned} \\\n",
       "\t\t\t\t& \\Upsilon_{obs} = \\Upsilon_N \\cdot (1-F_D)  + \\Upsilon_D \\cdot F_D \\\\ \\\n",
       "\t\t\t\t\\text{where} \\\\ \\\n",
       "\t\t\t\t& \\Upsilon_N = \\alpha_N+\\beta_N x \\\\ \\\n",
       "\t\t\t\t& \\Upsilon_D = \\alpha_D+\\beta_D x \\\\ \\\n",
       "\t\t\t\t& F_D = \\frac{\\sqrt{((K_U^2 + (8 K_U Pt)) - K_U}}  {4 Pt} \\\\ \\\n",
       "\t\t\t\t& K_U = \\exp \\frac{(RT \\ln(Pt - m(d_{50} - x))} {RT}\\\n",
       "\t\t\t\t\\end{aligned}\\\n",
       "\t\t\t\t\\end{equation}$$"
      ],
      "text/plain": [
       "<IPython.core.display.Math object>"
      ]
     },
     "metadata": {},
     "output_type": "display_data"
    },
    {
     "name": "stdout",
     "output_type": "stream",
     "text": [
      " Two State model for a dimer denaturation Equilibrium - No Intermediate.\n",
      "\n",
      "\tFolding Scheme:\n",
      "\t\tN2 <-> 2D\n",
      "\n",
      "\tParams:\n",
      "\t\tY_obs = spectroscopic signal at a given concentration of urea\n",
      "\t\tY_N = spectroscopic signal for native monomeric subunits at a concentration of Pt\n",
      "\t\tY_D = spectroscopic signal for denatured monomeric subunits at a concentration of Pt\n",
      "\t\talpha_N = intercept of the native baseline at low denaturation concentrations\n",
      "\t\tbeta_N = slope/gradient of the native baseline at low denaturation concentrations\n",
      "\t\talpha_D = intercept of the denatured baseline at high denaturation concentrations\n",
      "\t\tbeta_D = slope/gradient of the denatured baseline at high denaturation concentrations\n",
      "\t\tF_D = fraction of unfolded monomers\n",
      "\t\tK_U = Equilibrium Constant for Unfolding of dimer.\n",
      "\t\tPt = total protein concentration. This variable needs to be set per denaturation curve.\n",
      "\t\tm = m-value\n",
      "\t\tx = denaturant concentration (M)\n",
      "\t\td50 = denaturant midpoint (M)\n",
      "\t\tR = Universal Gas Constant (kcal.mol-1.K-1)\n",
      "\t\tT = Temperature (Kelvin)\n",
      "\n",
      "\tReference:\n",
      "\t\tMallam and Jackson. Folding studies on a knotted protein.\n",
      "\t\tJournal of Molecular Biology (2005) vol. 346 (5) pp. 1409-1421\n",
      "\t\n"
     ]
    },
    {
     "data": {
      "text/latex": [
       "$$\\begin{equation} \\\n",
       "\t\t\t\t\\begin{aligned} \\\n",
       "\t\t\t\t& \\Upsilon_{obs} = \\Upsilon_N F_N + \\Upsilon_I F_I + \\Upsilon_D F_D \\ \\\\ \\\n",
       "\t\t\t\t\\text{where:}  \\\\ \\\n",
       "\t\t\t\t& F_N = \\frac{1} {1 + K_{NI} + K_{NI} K_{ID}}\\\\ \\\n",
       "\t\t\t\t& F_I = \\frac{K_{NI}} {1 + K_{NI} + K_{NI} K_{ID}}\\\\ \\\n",
       "\t\t\t\t& F_D = \\frac{K_{NI} K_{ID}} {1 + K_{NI} + K_{NI} K_{ID}}\\\\ \\\n",
       "\t\t\t\t\\text{and:}  \\\\ \\\n",
       "\t\t\t\t& K_{NI} = \\exp \\frac{\\Delta G_{NI}^{H_2O} + m_{NI} x} {RT}\\\\ \\\n",
       "\t\t\t\t& K_{ID} = \\exp \\frac{\\Delta G_{ID}^{H_2O} + m_{ID} x} {RT}\\\\ \\\n",
       "\t\t\t\t\\\\ \\\n",
       "\t\t\t\t\\text{thus:} \\\\ \\\n",
       "\t\t\t\t& \\Upsilon_{obs} = \\frac{ \\Upsilon_N + \\Upsilon_I \\exp \\frac {\\Delta G_{NI}^{H_2O} + m_{NI} x} {RT} + \\\n",
       "\t\t\t\t\\Upsilon_D \\exp \\frac{\\Delta G_{NI}^{H_2O} + m_{NI} x} {RT} \\cdot \\exp \\frac{\\Delta G_{ID}^{H_2O} + m_{ID} x} {RT}} {1 + \\exp \\\n",
       "\t\t\t\t\\frac{\\Delta G_{NI}^{H_2O} + m_{NI} x} {RT} + \\exp \\frac{\\Delta G_{NI}^{H_2O} + m_{NI} x} {RT} \\cdot  \\\n",
       " \t\t\t    \\exp \\frac{\\Delta G_{ID}^{H_2O} + m_{ID} x} {RT}}\\\n",
       "\t\t\t\t\\end{aligned}\\\n",
       "\t\t\t\t\\end{equation}$$"
      ],
      "text/plain": [
       "<IPython.core.display.Math object>"
      ]
     },
     "metadata": {},
     "output_type": "display_data"
    },
    {
     "name": "stdout",
     "output_type": "stream",
     "text": [
      " Three state equilbrium denaturation curve.\n",
      "\n",
      "\tFolding Scheme:\n",
      "\t\tN <-> I <-> D\n",
      "\n",
      "\tParams:\n",
      "\t\tY_obs = The spectroscopic signal maximum as a function of denaturant concentration\n",
      "\t\tY_N = spectroscopic signals of the  native state\n",
      "\t\tY_D = spectroscopic signals of the denatured state\n",
      "\t\tF_D = fraction denatured\n",
      "\t\tF_N = fraction native\n",
      "\t\tF_I = fraction intermediate\n",
      "\t\tKni = equilibrium contstant of unfolding native to intermediate state\n",
      "\t\tKid = equilibrium contstant of unfolding intermediate to denatured state\n",
      "\t\tDGni = stability of native state relative to intermediate state\n",
      "\t\tm_ni = m-value of native to intermediate transition\n",
      "\t\tDGid = stability of intermediate state relative to denatured state\n",
      "\t\tm_id = m-value of intermediate to denatured transition\n",
      "\t\tx = denaturant concentration (M)\n",
      "\t\tR = Universal Gas Constant (kcal.mol-1.K-1)\n",
      "\t\tT = Temperature (Kelvin)\n",
      "\n",
      "\tReference:\n",
      "\t\tHecky J, Muller K.M. Structural Perturbation and Compensation by Directed\n",
      "\t\tEvolution at Physiological Temperature Leads to Thermostabilization of\n",
      "\t\tbeta-Lactamase. (2005) Biochemistry 44. pp. 12640-12654\n",
      "\t\n"
     ]
    },
    {
     "data": {
      "text/latex": [
       "$$\\begin{equation} \\\n",
       "\t\t\t\t\\begin{aligned} \\\n",
       "\t\t\t\t& \\Upsilon_{rel} = \\Upsilon_N F_N + \\Upsilon_I F_I + \\Upsilon_D F_D \\\\ \\\n",
       "\t\t\t\t\\text{expanded:} \\\\ \\\n",
       "\t\t\t\t& \\Upsilon_{rel} = \\Upsilon_N \\cdot \\frac{2PtF_I^2} {K_1} + \\Upsilon_I F_I + \\Upsilon_D * K_2F_I \\\\ \\\n",
       "\t\t\t\t\\\\ \\\n",
       "\t\t\t\t\\text{where:} \\\\ \\\n",
       "\t\t\t\t& F_I = \\frac {- K_1 (1+K_2) + \\sqrt{(K_1^2 (1+K_2)^2 + (8 Pt K_1))}} {4Pt} \\\\ \\\n",
       "\t\t\t\t& K_1 = \\exp \\frac{-\\Delta G_{H_20}^1 + m_1 x} {RT} \\\\ \\\n",
       "\t\t\t\t& K_2 = \\exp \\frac{-\\Delta G_{H_20}^2 + m_2 x} {RT}\\\n",
       "\t\t\t\t\\end{aligned}\\\n",
       "\t\t\t\t\\end{equation}$$"
      ],
      "text/plain": [
       "<IPython.core.display.Math object>"
      ]
     },
     "metadata": {},
     "output_type": "display_data"
    },
    {
     "name": "stdout",
     "output_type": "stream",
     "text": [
      " Three State model for a dimer denaturation Equilibrium - Monomeric intermediate.\n",
      "\n",
      "\tFolding Scheme:\n",
      "\t\tN2 <-> 2I <-> 2D\n",
      "\n",
      "\tParams:\n",
      "\t\tY_rel = spectroscopic signal at a given concentration of urea\n",
      "\t\tY_N = spectroscopic signal for native state\n",
      "\t\tY_D = spectroscopic signal for denatured state\n",
      "\t\tY_I = spectroscopic signal for intermediate state\n",
      "\t\tF_D = fraction denatured monomers\n",
      "\t\tF_N = fraction native dimers\n",
      "\t\tF_I = fraction intermediate dimers\n",
      "\t\tPt = total protein concentration. This variable needs to be set per denaturation curve.\n",
      "\t\tK1 = equilibrium constant of unfolding for native to intermediate state\n",
      "\t\tK2 = equilibrium constant of unfolding for intermediate to denatured state\n",
      "\t\tDG1 = stability of native state relative to intermediate state\n",
      "\t\tm1 = m-value of native to intermediate transition\n",
      "\t\tDG2 = stability of intermediate state relative to denatured state\n",
      "\t\tm2 = m-value of intermediate to denatured transition\n",
      "\t\tx = denaturant concentration (M)\n",
      "\t\tR = Universal Gas Constant (kcal.mol-1.K-1)\n",
      "\t\tT = Temperature (Kelvin)\n",
      "\n",
      "\tReference:\n",
      "\t\tMallam and Jackson. Folding studies on a knotted protein.\n",
      "\t\tJournal of Molecular Biology (2005) vol. 346 (5) pp. 1409-1421\n",
      "\t\n"
     ]
    },
    {
     "data": {
      "text/latex": [
       "$$\\begin{equation} \\\n",
       "\t\t\t\t\\begin{aligned} \\\n",
       "\t\t\t\t& \\Upsilon_{rel} = \\Upsilon_N F_N + \\Upsilon_I F_I + \\Upsilon_D F_D \\\\ \\\n",
       "\t\t\t\t\\text{expanded:} \\\\ \\\n",
       "\t\t\t\t& \\Upsilon_{rel} = \\Upsilon_N \\cdot \\frac{2PtF_D^2} {K_1 K_2} + \\Upsilon_I \\frac{2PtF_D^2} {K_2} + \\Upsilon_D * (F_D) \\\\ \\\n",
       "\t\t\t\t\\\\ \\\n",
       "\t\t\t\t\\text{where:} \\\\ \\\n",
       "\t\t\t\t& F_D = \\frac {- K_1 K_2 + \\sqrt{((K_1 K_2)^2 + 8(1+K_1)(K_1 K_2)Pt)}} {4Pt (1 + K_1)} \\\\ \\\n",
       "\t\t\t\t& K_1 = \\exp \\frac{-\\Delta G_{H_20}^1 + m_1 x} {RT} \\\\ \\\n",
       "\t\t\t\t& K_2 = \\exp \\frac{-\\Delta G_{H_20}^2 + m_2 x} {RT}\\\n",
       "\t\t\t\t\\end{aligned}\\\n",
       "\t\t\t\t\\end{equation}$$"
      ],
      "text/plain": [
       "<IPython.core.display.Math object>"
      ]
     },
     "metadata": {},
     "output_type": "display_data"
    },
    {
     "name": "stdout",
     "output_type": "stream",
     "text": [
      " Three State model for a dimer denaturation Equilibrium - Dimeric Intermediate.\n",
      "\n",
      "\tFolding Scheme:\n",
      "\t\tN2 <-> I2 <-> 2D\n",
      "\n",
      "\tParams:\n",
      "\t\tY_rel = spectroscopic signal at a given concentration of urea\n",
      "\t\tY_N = spectroscopic signal for native state\n",
      "\t\tY_D = spectroscopic signal for denatured state\n",
      "\t\tY_I = spectroscopic signal for intermediate state\n",
      "\t\tF_D = fraction denatured monomers\n",
      "\t\tF_N = fraction native dimers\n",
      "\t\tF_I = fraction intermediate dimers\n",
      "\t\tPt = total protein concentration. This variable needs to be set per denaturation curve.\n",
      "\t\tK1 = equilibrium contstant of unfolding native to intermediate state\n",
      "\t\tK2 = equilibrium contstant of unfolding intermediate to denatured state\n",
      "\t\tDG1 = stability of native state relative to intermediate state\n",
      "\t\tm1 = m-value of native to intermediate transition\n",
      "\t\tDG2 = stability of intermediate state relative to denatured state\n",
      "\t\tm2 = m-value of intermediate to denatured transition\n",
      "\t\tx = denaturant concentration (M)\n",
      "\t\tR = Universal Gas Constant (kcal.mol-1.K-1)\n",
      "\t\tT = Temperature (Kelvin)\n",
      "\n",
      "\tReference:\n",
      "\t\tMallam and Jackson. Folding studies on a knotted protein.\n",
      "\t\tJournal of Molecular Biology (2005) vol. 346 (5) pp. 1409-1421\n",
      "\t\n"
     ]
    },
    {
     "data": {
      "text/latex": [
       "$$\\text{the partition function } (q) \\text{ and thus fraction of folded protein } (f) \\text{ of n arrayed repeats are given by:}\\\\ \\\n",
       "\t\t\t\t\\begin{equation} \\\\ \\\n",
       "\t\t\t\t\\begin{aligned} \\\n",
       "\t\t\t\t& q = 1 + \\frac{\\kappa([\\kappa \\tau]^{n+1} - [n+1]\\kappa \\tau - n)} {(\\kappa \\tau + 1)^2}  \\\\ \\\n",
       "\t\t\t\t\\\\ \\\n",
       "\t\t\t\t& f = \\frac{1} {n} \\sum^{n}_{i=0}i\\frac{(n-i+1)\\kappa^i\\tau^{i-1}} {q} \\\\ \\\n",
       "\t\t\t\t\\\\ \\\n",
       "\t\t\t\t\\text{where:} \\\\ \\\n",
       "\t\t\t\t& \\kappa (x) = \\exp\\frac{-G_i} {RT} = \\exp\\frac{-G_{i,H_20} + m_i x} {RT}  \\\\ \\\n",
       "\t\t\t\t\\\\ \\\n",
       "\t\t\t\t& \\tau (x) = \\exp\\frac{-G_{i,i+1}} {RT} \\\n",
       "\t\t\t\t\\end{aligned}\\\n",
       "\t\t\t\t\\end{equation}$$"
      ],
      "text/plain": [
       "<IPython.core.display.Math object>"
      ]
     },
     "metadata": {},
     "output_type": "display_data"
    },
    {
     "name": "stdout",
     "output_type": "stream",
     "text": [
      " Homopolymer Zipper Ising model\n",
      "\n",
      "\tParams:\n",
      "\t\tq = partition function\n",
      "\t\tf = fraction of folded protein\n",
      "\t\tKappa = equilibrium constant of folding for a given repeating unit\n",
      "\t\tTau = equilibrium constant of association between 2 repeating units\n",
      "\t\tn = number of repeating units\n",
      "\t\tx = denaturant concentration (M)\n",
      "\t\tGi = intrinsic stability (folding energy) of a repeating unit i\n",
      "\t\tmi = denaturant sensitivity of the intrinsic stability of a repeating unit i\n",
      "\t\tGi,i+1 = interface interaction energy between 2 repeating units\n",
      "\t\tR = Universal Gas Constant (kcal.mol-1.K-1)\n",
      "\t\tT = Temperature (Kelvin)\n",
      "\n",
      "\tReference:\n",
      "\t\tAksel and Barrick. Analysis of repeat-protein folding using\n",
      "\t\tnearest-neighbor statistical mechanical models.\n",
      "\t\tMethods in enzymology (2009) vol. 455 pp. 95-125\n",
      "\t\n"
     ]
    },
    {
     "data": {
      "text/latex": [
       "$$\\text{the partition function } (q) \\text{ and thus fraction of folded protein } (f) \\text{ of n arrayed repeats are given by:}  \\\\ \\\n",
       "\t\t\t\\begin{equation} \\\\ \\\n",
       "\t\t\t\\begin{aligned} \\\\ \\\n",
       "\t\t\t\\kappa(x) &= \\exp(-(\\Delta G_{intrinsic} - m_{intrinsic}x) / RT) \\\\ \\\n",
       "\t\t\t\\tau(x) &= \\exp(-\\Delta G_{interface}) / RT) \\\\ \\\n",
       "\t\t\tq(i) &=  \\\n",
       "\t\t\t\\begin{bmatrix} 0 & 1\\end{bmatrix}  \\\n",
       "\t\t\t\\begin{bmatrix} \\kappa_1\\tau_{-1} & 1\\\\ \\kappa & 1 \\end{bmatrix} \\\n",
       "\t\t\t\\ldots  \\\n",
       "\t\t\t\\begin{bmatrix} \\kappa_n\\tau_{n-1} & 1\\\\ \\kappa & 1 \\end{bmatrix} \\\n",
       "\t\t\t\\begin{bmatrix} 1 \\\\ 1 \\end{bmatrix} \\\\ \\\n",
       "\t\t\t\\theta &=  \\frac{1}{nq(n)} \\sum_{i=0}^{n}{q(i)} \\\n",
       "\t\t\t\\end{aligned} \\\n",
       "\t\t\t\\end{equation}$$"
      ],
      "text/plain": [
       "<IPython.core.display.Math object>"
      ]
     },
     "metadata": {},
     "output_type": "display_data"
    },
    {
     "name": "stdout",
     "output_type": "stream",
     "text": [
      " Heteropolymer Ising model\n",
      "\n",
      "\tParams:\n",
      "\t\tq = partition function\n",
      "\t\tf = fraction of folded protein\n",
      "\t\tKappa = equilibrium constant of folding for a given repeating unit\n",
      "\t\tTau = equilibrium constant of association between 2 repeating units\n",
      "\t\tn = number of repeating units\n",
      "\t\tx = denaturant concentration (M)\n",
      "\t\tDG_intrinsic = intrinsic stability (folding energy) of a repeating unit i\n",
      "\t\tm_intrinsic = denaturant sensitivity of the intrinsic stability of a repeating unit i\n",
      "\t\tDG_interface = interface interaction energy between 2 repeating units\n",
      "\t\tR = Universal Gas Constant (kcal.mol-1.K-1)\n",
      "\t\tT = Temperature (Kelvin)\n",
      "\n",
      "\tNotes:\n",
      "\t\tAksel and Barrick. Analysis of repeat-protein folding using\n",
      "\t\tnearest-neighbor statistical mechanical models.\n",
      "\t\tMethods in enzymology (2009) vol. 455 pp. 95-125\n",
      "\t\n"
     ]
    }
   ],
   "source": [
    "# To print all equations at once\n",
    "# create a list\n",
    "\n",
    "folding_models = [TwoStateEquilibrium,\n",
    "                  TwoStateDimerEquilibrium,\n",
    "                  ThreeStateEquilibrium,\n",
    "                  ThreeStateMonoIEquilibrium,\n",
    "                  ThreeStateDimericIEquilibrium,\n",
    "                  HomozipperIsingEquilibrium,\n",
    "                  HeteropolymerIsingEquilibrium]\n",
    "\n",
    "#feed the list into print_equation()\n",
    "\n",
    "for model in folding_models: \n",
    "    model().info()\n"
   ]
  },
  {
   "cell_type": "markdown",
   "metadata": {},
   "source": [
    "---\n",
    "#### Variables in a given Equation\n",
    "If we would like to get further details, for example the variables of an equation, we can get those easily by request the fit function arguments:"
   ]
  },
  {
   "cell_type": "code",
   "execution_count": 5,
   "metadata": {},
   "outputs": [
    {
     "data": {
      "text/plain": [
       "['kf', 'mf', 'ku', 'mu']"
      ]
     },
     "execution_count": 5,
     "metadata": {},
     "output_type": "execute_result"
    }
   ],
   "source": [
    "# The function has two parts:\n",
    "# part1 states the model you want to find about: \"******()\"\n",
    "# part2 prints the variables: \".fit_func_args\"\n",
    "# as an example I have used the two-state kinetic folding model:\n",
    "\n",
    "TwoStateChevron().fit_func_args"
   ]
  },
  {
   "cell_type": "markdown",
   "metadata": {},
   "source": [
    "---\n",
    "\n",
    "### End of this Notebook.\n",
    "\n",
    "---"
   ]
  }
 ],
 "metadata": {
  "kernelspec": {
   "display_name": "Python 2",
   "language": "python",
   "name": "python2"
  },
  "language_info": {
   "codemirror_mode": {
    "name": "ipython",
    "version": 2
   },
   "file_extension": ".py",
   "mimetype": "text/x-python",
   "name": "python",
   "nbconvert_exporter": "python",
   "pygments_lexer": "ipython2",
   "version": "2.7.13"
  }
 },
 "nbformat": 4,
 "nbformat_minor": 1
}

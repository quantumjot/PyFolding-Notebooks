{
 "cells": [
  {
   "cell_type": "markdown",
   "metadata": {},
   "source": [
    "# Generic Data Importer Notebook & User Defined Models\n",
    "---\n",
    "\n",
    "[Authors] ARL & ERGM\n",
    "\n",
    "---\n",
    "\n",
    "This Notebook aims to show an example of importing generic data into PyFolding and fitting it with a user defined model. Once you have tested it here you can add it to your models.py from the PyFolding installation and setup PyFolding again to incorporate it into your local copy or simply copy it into whichever notebook you are using.\n",
    "\n",
    "### So as always lets load up PyFolding:\n",
    "\n",
    "---\n"
   ]
  },
  {
   "cell_type": "code",
   "execution_count": 1,
   "metadata": {},
   "outputs": [
    {
     "data": {
      "application/javascript": [
       "\n",
       "\tIPython.OutputArea.prototype._should_scroll = function(lines) {\n",
       "\t    return false;\n",
       "\t}\n",
       "\t"
      ],
      "text/plain": [
       "<IPython.core.display.Javascript object>"
      ]
     },
     "metadata": {},
     "output_type": "display_data"
    },
    {
     "name": "stdout",
     "output_type": "stream",
     "text": [
      "PyFolding: Jupyter autoscrolling has been disabled\n"
     ]
    }
   ],
   "source": [
    "#First off let's load pyfolding & pyplot into this ipython notebook\n",
    "# (pyplot allows us to plot more complex figures of our results):\n",
    "\n",
    "%matplotlib inline\n",
    "import pyfolding\n",
    "from pyfolding import models\n",
    "\n",
    "# let's use some other libraries also\n",
    "import matplotlib.pyplot as plt\n",
    "import numpy as np"
   ]
  },
  {
   "cell_type": "markdown",
   "metadata": {},
   "source": [
    "---\n",
    "\n",
    "# NOTE: This section just autogenerates a CSV file of data to be imported using the generic importer\n",
    "\n",
    "---\n",
    "\n"
   ]
  },
  {
   "cell_type": "code",
   "execution_count": 2,
   "metadata": {},
   "outputs": [
    {
     "data": {
      "image/png": "[encoded data removed]",
      "text/plain": [
       "<matplotlib.figure.Figure at 0x113fc70d0>"
      ]
     },
     "metadata": {},
     "output_type": "display_data"
    },
    {
     "name": "stdout",
     "output_type": "stream",
     "text": [
      "Writing .csv file (../examples/waves.csv)...\n"
     ]
    }
   ],
   "source": [
    "from pyfolding import utils\n",
    "from collections import OrderedDict\n",
    "x = np.linspace(-np.pi, np.pi, 100)\n",
    "y_cos = np.cos(x) + np.random.randn(len(x))*0.05\n",
    "y_sin = np.sin(x) + np.random.randn(len(x))*0.05\n",
    "\n",
    "plt.figure()\n",
    "plt.plot(x, y_cos,'r-', x, y_sin,'b-')\n",
    "plt.show()\n",
    "\n",
    "data = OrderedDict([('x',x),('cos',y_cos),('sin',y_sin)])\n",
    "\n",
    "utils.write_CSV('../examples/waves.csv', data)"
   ]
  },
  {
   "cell_type": "markdown",
   "metadata": {},
   "source": [
    "---\n",
    "\n",
    "# Loading an arbitrary data set\n",
    "\n",
    "Here we will load a data set which contains sine and cosine functions over the range $(-\\pi,\\pi]$ to demonstrate how PyFolding can deal with arbitrary datasets. We will then plot and fit a simple mode to recover the amplitude and phase of the waves.\n",
    "\n",
    "---"
   ]
  },
  {
   "cell_type": "code",
   "execution_count": 3,
   "metadata": {
    "collapsed": true
   },
   "outputs": [],
   "source": [
    "# loading the data - The kinetics of each protein is in one .csv \n",
    "# as per PyFolding SI Notebooks 1 and 2\n",
    "\n",
    "pth = \"../examples/\"\n",
    "wave_data = pyfolding.read_generic_data(pth,\"waves.csv\")"
   ]
  },
  {
   "cell_type": "code",
   "execution_count": 4,
   "metadata": {},
   "outputs": [
    {
     "name": "stdout",
     "output_type": "stream",
     "text": [
      "<pyfolding.core.GenericData object at 0x113fc3150>\n"
     ]
    }
   ],
   "source": [
    "print wave_data"
   ]
  },
  {
   "cell_type": "markdown",
   "metadata": {},
   "source": [
    "---\n",
    "\n",
    "### We can use this generic object as we would any other\n",
    "\n",
    "For example, let's extract the datasets found within, and plot x versus y (y defaults to the first label, e.g. 'cos' in this case)\n",
    "\n",
    "---\n"
   ]
  },
  {
   "cell_type": "code",
   "execution_count": 5,
   "metadata": {},
   "outputs": [
    {
     "name": "stdout",
     "output_type": "stream",
     "text": [
      "['x', 'cos', 'sin']\n"
     ]
    }
   ],
   "source": [
    "print wave_data.labels"
   ]
  },
  {
   "cell_type": "code",
   "execution_count": 6,
   "metadata": {},
   "outputs": [
    {
     "name": "stdout",
     "output_type": "stream",
     "text": [
      "[-3.14159265 -3.07812614 -3.01465962 -2.9511931  -2.88772658 -2.82426006\n",
      " -2.76079354 -2.69732703 -2.63386051 -2.57039399 -2.50692747 -2.44346095\n",
      " -2.37999443 -2.31652792 -2.2530614  -2.18959488 -2.12612836 -2.06266184\n",
      " -1.99919533 -1.93572881 -1.87226229 -1.80879577 -1.74532925 -1.68186273\n",
      " -1.61839622 -1.5549297  -1.49146318 -1.42799666 -1.36453014 -1.30106362\n",
      " -1.23759711 -1.17413059 -1.11066407 -1.04719755 -0.98373103 -0.92026451\n",
      " -0.856798   -0.79333148 -0.72986496 -0.66639844 -0.60293192 -0.53946541\n",
      " -0.47599889 -0.41253237 -0.34906585 -0.28559933 -0.22213281 -0.1586663\n",
      " -0.09519978 -0.03173326  0.03173326  0.09519978  0.1586663   0.22213281\n",
      "  0.28559933  0.34906585  0.41253237  0.47599889  0.53946541  0.60293192\n",
      "  0.66639844  0.72986496  0.79333148  0.856798    0.92026451  0.98373103\n",
      "  1.04719755  1.11066407  1.17413059  1.23759711  1.30106362  1.36453014\n",
      "  1.42799666  1.49146318  1.5549297   1.61839622  1.68186273  1.74532925\n",
      "  1.80879577  1.87226229  1.93572881  1.99919533  2.06266184  2.12612836\n",
      "  2.18959488  2.2530614   2.31652792  2.37999443  2.44346095  2.50692747\n",
      "  2.57039399  2.63386051  2.69732703  2.76079354  2.82426006  2.88772658\n",
      "  2.9511931   3.01465962  3.07812614  3.14159265]\n"
     ]
    }
   ],
   "source": [
    "print wave_data.x"
   ]
  },
  {
   "cell_type": "code",
   "execution_count": 7,
   "metadata": {},
   "outputs": [
    {
     "name": "stdout",
     "output_type": "stream",
     "text": [
      "[ -1.05184198e+00  -1.10086036e+00  -9.34577866e-01  -8.98684831e-01\n",
      "  -1.01876844e+00  -9.28422902e-01  -9.21834189e-01  -9.05072298e-01\n",
      "  -8.94156059e-01  -8.09748407e-01  -8.07323495e-01  -7.21774418e-01\n",
      "  -7.31338883e-01  -7.37619719e-01  -6.40085902e-01  -5.63761858e-01\n",
      "  -5.28692200e-01  -4.69408225e-01  -3.84358928e-01  -4.23246500e-01\n",
      "  -3.42038709e-01  -2.93540838e-01  -8.99022064e-02  -1.56712701e-01\n",
      "  -4.70741508e-02   2.21520170e-04   1.24822637e-01   1.35374655e-01\n",
      "   2.36447385e-01   2.84709078e-01   2.98650228e-01   3.56154884e-01\n",
      "   4.71149537e-01   5.51995373e-01   5.48471932e-01   4.89630950e-01\n",
      "   7.75252581e-01   6.35591971e-01   7.39330183e-01   8.34019948e-01\n",
      "   7.64425698e-01   8.68623007e-01   8.81952824e-01   8.55746330e-01\n",
      "   9.66528664e-01   9.68849809e-01   9.09940500e-01   8.71076422e-01\n",
      "   9.80475110e-01   9.64203100e-01   9.62147890e-01   9.19320898e-01\n",
      "   1.06287708e+00   9.79996528e-01   9.19656691e-01   8.31644631e-01\n",
      "   9.43496470e-01   9.71987785e-01   9.19820064e-01   8.50062902e-01\n",
      "   8.16184298e-01   8.24049638e-01   7.10046130e-01   7.02083818e-01\n",
      "   6.49232729e-01   5.93266790e-01   6.34566975e-01   5.10333001e-01\n",
      "   3.31677692e-01   2.78595731e-01   2.58089568e-01   2.85880648e-01\n",
      "   1.53620903e-01   6.60839402e-02   9.97124703e-02   4.06463880e-03\n",
      "  -1.65095090e-01  -8.79775962e-02  -2.48359633e-01  -2.75328948e-01\n",
      "  -2.92200664e-01  -4.81186925e-01  -4.02666378e-01  -5.18212035e-01\n",
      "  -5.98537310e-01  -5.79979894e-01  -7.08734247e-01  -7.07753630e-01\n",
      "  -8.26412974e-01  -8.10114098e-01  -9.70090371e-01  -9.08403141e-01\n",
      "  -9.92313207e-01  -8.49087297e-01  -1.09725395e+00  -9.01188317e-01\n",
      "  -9.73493283e-01  -9.12334689e-01  -1.05720339e+00  -9.85473702e-01]\n"
     ]
    }
   ],
   "source": [
    "print wave_data.y"
   ]
  },
  {
   "cell_type": "markdown",
   "metadata": {},
   "source": [
    "---\n",
    "\n",
    "### Plotting arbitrary data and fitting to other models\n",
    "Note that we can call plot and fit this to an arbitrary function (i.e. it doesn't have to be anything to do with protein folding) using all of the same tools\n",
    "\n",
    "---"
   ]
  },
  {
   "cell_type": "code",
   "execution_count": 8,
   "metadata": {},
   "outputs": [
    {
     "data": {
      "image/png": "[encoded data removed]",
      "text/plain": [
       "<matplotlib.figure.Figure at 0x113fe8950>"
      ]
     },
     "metadata": {},
     "output_type": "display_data"
    }
   ],
   "source": [
    "wave_data.plot()"
   ]
  },
  {
   "cell_type": "markdown",
   "metadata": {},
   "source": [
    "---\n",
    "\n",
    "### Let's define a sinusoidal model with phase and amplitude\n",
    "We can use this to extract the amplitude and phase of the waves...\n",
    "\n",
    "---"
   ]
  },
  {
   "cell_type": "code",
   "execution_count": 9,
   "metadata": {
    "collapsed": true
   },
   "outputs": [],
   "source": [
    "class Wave(pyfolding.FitModel):\n",
    "    \"\"\" Sine wave with amplitude and phase\n",
    "    \"\"\"\n",
    "    def __init__(self):\n",
    "        pyfolding.FitModel.__init__(self)\n",
    "        fit_args = self.fit_func_args\n",
    "        self.params = tuple( [(fit_args[i],i) for i in xrange(len(fit_args))] )\n",
    "        self.default_params = np.array([1., 0.])\n",
    "\n",
    "\n",
    "\n",
    "    def fit_func(self, x, amplitude, phase):    \n",
    "        return amplitude*np.sin(x+phase)"
   ]
  },
  {
   "cell_type": "code",
   "execution_count": 10,
   "metadata": {},
   "outputs": [
    {
     "name": "stdout",
     "output_type": "stream",
     "text": [
      "================================================================================\n",
      "Fitting results\n",
      "================================================================================\n",
      "ID: waves\n",
      "Model: Wave\n",
      "Optimiser: pyfolding.GlobalFit and scipy.optimize.curve_fit\n",
      "Temperature: 25.00°C\n",
      "\n",
      "(f) amplitude    1.00419 ± 0.00045    \t 95% CI[   1.00408,    1.00431]\n",
      "(f) phase        1.55891 ± 0.00045    \t 95% CI[   1.55879,    1.55902]\n",
      "--------------------------------------------------------------------------------\n",
      "R^2: 0.99389\n",
      "================================================================================\n",
      "\n",
      "\n"
     ]
    }
   ],
   "source": [
    "wave_data.fit_func = Wave\n",
    "wave_data.fit()"
   ]
  },
  {
   "cell_type": "code",
   "execution_count": 11,
   "metadata": {},
   "outputs": [
    {
     "data": {
      "image/png": "[encoded data removed]",
      "text/plain": [
       "<matplotlib.figure.Figure at 0x1173bb410>"
      ]
     },
     "metadata": {},
     "output_type": "display_data"
    }
   ],
   "source": [
    "wave_data.plot()"
   ]
  },
  {
   "cell_type": "code",
   "execution_count": 12,
   "metadata": {},
   "outputs": [
    {
     "name": "stdout",
     "output_type": "stream",
     "text": [
      "1.57079632679\n"
     ]
    }
   ],
   "source": [
    "print np.pi/2"
   ]
  },
  {
   "cell_type": "markdown",
   "metadata": {
    "collapsed": true
   },
   "source": [
    "---\n",
    "\n",
    "#### End of Notebook\n",
    "\n",
    "---"
   ]
  }
 ],
 "metadata": {
  "kernelspec": {
   "display_name": "Python 2",
   "language": "python",
   "name": "python2"
  },
  "language_info": {
   "codemirror_mode": {
    "name": "ipython",
    "version": 2
   },
   "file_extension": ".py",
   "mimetype": "text/x-python",
   "name": "python",
   "nbconvert_exporter": "python",
   "pygments_lexer": "ipython2",
   "version": "2.7.13"
  }
 },
 "nbformat": 4,
 "nbformat_minor": 2
}

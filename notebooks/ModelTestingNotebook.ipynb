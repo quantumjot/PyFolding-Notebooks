{
 "cells": [
  {
   "cell_type": "markdown",
   "metadata": {},
   "source": [
    "# Generating New Models/Equations Notebook\n",
    "---\n",
    "\n",
    "[Author] ERGM & ARL\n",
    "\n",
    "---\n",
    "\n",
    "This Notebook aims to show an example of importing generic data into PyFolding and fitting it with a user defined model. Once you have tested it here you can add it to your models.py from the PyFolding installation and setup PyFolding again to incorporate it into your local copy or simply copy it into whichever notebook you are using.\n",
    "\n",
    "#### So as always lets load up PyFolding:\n",
    "\n",
    "---"
   ]
  },
  {
   "cell_type": "code",
   "execution_count": 1,
   "metadata": {},
   "outputs": [
    {
     "data": {
      "application/javascript": [
       "\n",
       "\tIPython.OutputArea.prototype._should_scroll = function(lines) {\n",
       "\t    return false;\n",
       "\t}\n",
       "\t"
      ],
      "text/plain": [
       "<IPython.core.display.Javascript object>"
      ]
     },
     "metadata": {},
     "output_type": "display_data"
    },
    {
     "name": "stdout",
     "output_type": "stream",
     "text": [
      "PyFolding: Jupyter autoscrolling has been disabled\n"
     ]
    }
   ],
   "source": [
    "# Load up pyfolding, etc.\n",
    "%matplotlib inline\n",
    "import pyfolding\n",
    "from pyfolding import models\n",
    "\n",
    "# let's use some other libraries also\n",
    "import matplotlib.pyplot as plt\n",
    "import numpy as np\n",
    "\n",
    "# Command imports pyfolding models\n",
    "from pyfolding.models import *\n"
   ]
  },
  {
   "cell_type": "markdown",
   "metadata": {},
   "source": [
    "---\n",
    "\n",
    "## NOTE: The cell below just autogenerates a CSV file of data to be imported using the generic importer\n",
    "\n",
    "---\n"
   ]
  },
  {
   "cell_type": "code",
   "execution_count": 2,
   "metadata": {},
   "outputs": [
    {
     "data": {
      "image/png": "[encoded data removed]",
      "text/plain": [
       "<matplotlib.figure.Figure at 0x10b1cfa90>"
      ]
     },
     "metadata": {},
     "output_type": "display_data"
    },
    {
     "name": "stdout",
     "output_type": "stream",
     "text": [
      "Writing .csv file (../examples/test_data.csv)...\n"
     ]
    }
   ],
   "source": [
    "# Lets create some data \n",
    "\n",
    "from pyfolding import utils\n",
    "from collections import OrderedDict\n",
    "x = np.linspace(0, 15, num=30)\n",
    "y_straight_line = 0.5*(x) + np.random.randn(len(x))*0.05\n",
    "\n",
    "plt.figure()\n",
    "plt.plot(x, y_straight_line,'r-')\n",
    "plt.show()\n",
    "\n",
    "data = OrderedDict([('x',x),('Straight_line',y_straight_line)])\n",
    "\n",
    "utils.write_CSV('../examples/test_data.csv', data)\n"
   ]
  },
  {
   "cell_type": "markdown",
   "metadata": {},
   "source": [
    "---\n",
    "\n",
    "### Loading the Generic Data into PyFolding\n",
    "\n",
    "---\n"
   ]
  },
  {
   "cell_type": "code",
   "execution_count": 3,
   "metadata": {},
   "outputs": [
    {
     "data": {
      "image/png": "[encoded data removed]",
      "text/plain": [
       "<matplotlib.figure.Figure at 0x10b1df090>"
      ]
     },
     "metadata": {},
     "output_type": "display_data"
    }
   ],
   "source": [
    "# Lets load this generic data\n",
    "\n",
    "pth = \"../examples/\"\n",
    "test_data = pyfolding.read_generic_data(pth,\"test_data.csv\")\n",
    "\n",
    "# Lets plot it to confirm it is functioning correctly in pyFolding\n",
    "test_data.plot()"
   ]
  },
  {
   "cell_type": "code",
   "execution_count": 4,
   "metadata": {},
   "outputs": [
    {
     "name": "stdout",
     "output_type": "stream",
     "text": [
      "Set temperature to 25.00°C\n",
      "(NOTE: Careful, this sets the temperature for all subsequent calculations)\n"
     ]
    }
   ],
   "source": [
    "#If we want to set our temperature\n",
    "\n",
    "pyfolding.set_temperature(25.0)"
   ]
  },
  {
   "cell_type": "markdown",
   "metadata": {},
   "source": [
    "---\n",
    "\n",
    "### In the PyFolding there is a python file that defines all the models that we have inputted into PyFolding called models.py. These have the following format (I have used TwoStateEquilibrium as an example)\n",
    "\n",
    "---\n",
    "\n",
    "class TwoStateEquilibrium(core.FitModel):\n",
    "\n",
    "    \"\"\"Two state equilibrium denaturation curve - No sloping baseline.\n",
    "\n",
    "\tFolding Scheme:\n",
    "\t\tN <-> D\n",
    "\n",
    "\tParams:\n",
    "\t\tF = Fraction unfolded\n",
    "\t\tm = m-value\n",
    "\t\tx = denaturant concentration (M)\n",
    "\t\td50 = denaturant midpoint (M)\n",
    "\t\tR = Universal Gas Constant (kcal.mol-1.K-1)\n",
    "\t\tT = Temperature (Kelvin)\n",
    "\n",
    "\tReference:\n",
    "\t\tClarke and Fersht. Engineered disulfide bonds as probes of\n",
    "\t\tthe folding pathway of barnase: Increasing the stability\n",
    "\t\tof proteins against the rate of denaturation.\n",
    "\t\tBiochemistry (1993) vol. 32 (16) pp. 4322-4329\"\"\"\n",
    "\n",
    "    def __init__(self):\n",
    "\t\tcore.FitModel.__init__(self)\n",
    "\t\tfit_args = self.fit_func_args\n",
    "\t\tself.params = tuple( [(fit_args[i],i) for i in xrange(len(fit_args))] )\n",
    "\t\tself.default_params = np.array([1.5, 5.])\n",
    "\t\tself.verified = True\n",
    "\n",
    "\n",
    "\tdef fit_func(self, x, m, d50):\n",
    "\t\tF = ( np.exp((m*(x-d50))/core.temperature.RT)) / (1.+np.exp((m*(x-d50))/core.temperature.RT))\n",
    "\t\treturn F\n",
    "\n",
    "\t@property\n",
    "\tdef equation(self):\n",
    "\t\treturn r'F = \\frac{\\exp( m(x-d_{50})) / RT} { 1+\\exp(m(x-d_{50}))/RT}'\n",
    "        \n",
    "---\n"
   ]
  },
  {
   "cell_type": "markdown",
   "metadata": {},
   "source": [
    "\n",
    "\n",
    "### The parts that you need to use the make a new equation/model are:\n",
    "\n",
    "---\n",
    "\n",
    "\n",
    "class TwoStateEquilibrium(core.FitModel):\n",
    "\n",
    "    def __init__(self):\n",
    "\t\tcore.FitModel.__init__(self)\n",
    "\t\tfit_args = self.fit_func_args\n",
    "\t\tself.params = tuple( [(fit_args[i],i) for i in xrange(len(fit_args))] )\n",
    "\t\tself.default_params = np.array([1.5, 5.])\n",
    "\t\tself.verified = True\n",
    "\n",
    "\n",
    "\tdef fit_func(self, x, m, d50):\n",
    "\t\tF = ( np.exp((m*(x-d50))/core.temperature.RT)) / (1.+np.exp((m*(x-d50))/core.temperature.RT))\n",
    "\t\treturn F\n",
    "        \n",
    "---\n",
    "\n",
    "**So lets use these and create our own equation and run it in this notebook (no need to modify the folder models.py) to fit the straight line data we generated above:**\n",
    "\n",
    "---\n",
    "\n"
   ]
  },
  {
   "cell_type": "code",
   "execution_count": 5,
   "metadata": {
    "collapsed": true
   },
   "outputs": [],
   "source": [
    "# lets give our equation a name\n",
    "class straightline(core.FitModel):\n",
    "    \n",
    "# We don't need to touch any of this next part except \"self.default_params\"\n",
    "# \"self.default_params\" are the initial parameters the model will use so lets change the values in the brackets:\n",
    "# \"np.array([1., 1.])\".\n",
    "\n",
    "    def __init__(self):\n",
    "        core.FitModel.__init__(self)\n",
    "        fit_args = self.fit_func_args\n",
    "        self.params = tuple( [(fit_args[i],i) for i in xrange(len(fit_args))] )\n",
    "        self.default_params = np.array([1., 1.])\n",
    "\n",
    "# This is our actual equation we will be using, so lets input a straight line i.e. y = mx+c\n",
    "    def fit_func(self, x, gradient, intercept):    \n",
    "        y = (gradient*x)+intercept\n",
    "        return y"
   ]
  },
  {
   "cell_type": "code",
   "execution_count": 6,
   "metadata": {},
   "outputs": [
    {
     "name": "stdout",
     "output_type": "stream",
     "text": [
      "================================================================================\n",
      "Fitting results\n",
      "================================================================================\n",
      "ID: test_data\n",
      "Model: straightline\n",
      "Optimiser: pyfolding.GlobalFit and scipy.optimize.curve_fit\n",
      "Temperature: 25.00°C\n",
      "\n",
      "(f) gradient     0.50094 ± 0.00014    \t 95% CI[   0.50090,    0.50097]\n",
      "(f) intercept   -0.01329 ± 0.00120    \t 95% CI[  -0.01359,   -0.01299]\n",
      "--------------------------------------------------------------------------------\n",
      "R^2: 0.99938\n",
      "================================================================================\n",
      "\n",
      "\n"
     ]
    }
   ],
   "source": [
    "# Lets fit our earlier generated data and see if the model works!\n",
    "\n",
    "test_data.fit_func = straightline\n",
    "test_data.fit()"
   ]
  },
  {
   "cell_type": "code",
   "execution_count": 10,
   "metadata": {},
   "outputs": [
    {
     "data": {
      "image/png": "[encoded data removed]",
      "text/plain": [
       "<matplotlib.figure.Figure at 0x10b1c1d10>"
      ]
     },
     "metadata": {},
     "output_type": "display_data"
    }
   ],
   "source": [
    "# Now lets plot the data with the fit\n",
    "test_data.plot()"
   ]
  },
  {
   "cell_type": "markdown",
   "metadata": {
    "collapsed": true
   },
   "source": [
    "---\n",
    "\n",
    "#### NoteBook End\n",
    "\n",
    "---\n"
   ]
  },
  {
   "cell_type": "code",
   "execution_count": null,
   "metadata": {
    "collapsed": true
   },
   "outputs": [],
   "source": []
  }
 ],
 "metadata": {
  "kernelspec": {
   "display_name": "Python 2",
   "language": "python",
   "name": "python2"
  },
  "language_info": {
   "codemirror_mode": {
    "name": "ipython",
    "version": 2
   },
   "file_extension": ".py",
   "mimetype": "text/x-python",
   "name": "python",
   "nbconvert_exporter": "python",
   "pygments_lexer": "ipython2",
   "version": "2.7.13"
  }
 },
 "nbformat": 4,
 "nbformat_minor": 1
}

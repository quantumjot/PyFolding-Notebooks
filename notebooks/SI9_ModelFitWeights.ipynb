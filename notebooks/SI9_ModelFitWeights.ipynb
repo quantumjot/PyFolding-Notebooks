{
 "cells": [
  {
   "cell_type": "markdown",
   "metadata": {},
   "source": [
    "# PyFolding SI Notebook 9\n",
    "---\n",
    "\n",
    "[Authors] ARL\n",
    "\n",
    "---\n",
    "\n",
    "## Example of using weights in fit functions ##\n",
    "\n",
    "An example of using weights in fit function to bias a fit toward data with lower errors.\n"
   ]
  },
  {
   "cell_type": "code",
   "execution_count": 1,
   "metadata": {},
   "outputs": [
    {
     "data": {
      "application/javascript": [
       "\n",
       "    IPython.OutputArea.prototype._should_scroll = function(lines) {\n",
       "        return false;\n",
       "    }\n",
       "    "
      ],
      "text/plain": [
       "<IPython.core.display.Javascript object>"
      ]
     },
     "metadata": {},
     "output_type": "display_data"
    },
    {
     "name": "stdout",
     "output_type": "stream",
     "text": [
      "PyFolding: Jupyter autoscrolling has been disabled\n"
     ]
    }
   ],
   "source": [
    "%matplotlib inline\n",
    "import pyfolding\n",
    "from pyfolding import models\n",
    "\n",
    "# let's use some other libraries also\n",
    "import matplotlib.pyplot as plt\n",
    "import numpy as np\n",
    "\n",
    "# Command imports pyfolding models\n",
    "from pyfolding.models import *"
   ]
  },
  {
   "cell_type": "markdown",
   "metadata": {},
   "source": [
    "### Create a simple test function and dataset\n",
    "Make a simple test fit function, a straight line:\n",
    "$y=mx+c$"
   ]
  },
  {
   "cell_type": "code",
   "execution_count": 2,
   "metadata": {
    "collapsed": true
   },
   "outputs": [],
   "source": [
    "class Test(core.FitModel):\n",
    "    def __init__(self):\n",
    "        core.FitModel.__init__(self)\n",
    "        fit_args = self.fit_func_args\n",
    "        self.params = tuple( [(fit_args[i],i) for i in xrange(len(fit_args))] )\n",
    "        self.default_params = np.array([1., 0.])\n",
    "    \n",
    "    def fit_func(self, x, m, c):\n",
    "        y = m*x + c\n",
    "        return y"
   ]
  },
  {
   "cell_type": "markdown",
   "metadata": {},
   "source": [
    "Now generate a simple dataset, which deviates from a straight line above a certain value of x:"
   ]
  },
  {
   "cell_type": "code",
   "execution_count": 15,
   "metadata": {
    "collapsed": true
   },
   "outputs": [],
   "source": [
    "# make a simple dataset to play with...\n",
    "x = np.linspace(0,10,100)\n",
    "y = 1.5*x + 2.0\n",
    "y[x>6] = 1.5*6+2.0\n",
    "\n",
    "\n",
    "# make the weights large in the region where there is deviation from the linear\n",
    "w = np.ones((100,)) # linear range, weights are 1\n",
    "w[x>6] = 100.       # deviation occurs, set weights to 100"
   ]
  },
  {
   "cell_type": "markdown",
   "metadata": {},
   "source": [
    "### Adding weights to the global fit function ###\n",
    "\n",
    "Add another property (.weights) to the fit function, which is a tuple of weights (each set of weights should be the length of x). The weights represent the number of standard deviations of error, so larger weights mean more error. I may change this definition in time..."
   ]
  },
  {
   "cell_type": "code",
   "execution_count": 4,
   "metadata": {
    "collapsed": true
   },
   "outputs": [],
   "source": [
    "# start by setting up a GlobalFit object\n",
    "global_fit = pyfolding.GlobalFit()\n",
    "global_fit.fit_funcs = (Test,)\n",
    "global_fit.x = (x,) \n",
    "global_fit.y = (y,)\n",
    "global_fit.weights = (w,)\n",
    "global_fit.ID = ['Test']\n",
    "global_fit.shared = []\n",
    "global_fit.initialise()"
   ]
  },
  {
   "cell_type": "code",
   "execution_count": 5,
   "metadata": {},
   "outputs": [
    {
     "name": "stdout",
     "output_type": "stream",
     "text": [
      "['m_{Test}', 'c_{Test}']\n"
     ]
    }
   ],
   "source": [
    "# find out the order of params for p0\n",
    "print global_fit.params.keys()"
   ]
  },
  {
   "cell_type": "code",
   "execution_count": 6,
   "metadata": {
    "collapsed": true
   },
   "outputs": [],
   "source": [
    "# set some reasonable starting parameters for the fit\n",
    "p0 = np.array([1.,1.])\n",
    "#bounds = [[1e6,1e6,1e6], [1e10,1e10,1e9]]\n",
    "\n",
    "# run the fit and get the results\n",
    "_,_ = global_fit.fit(p0=p0)\n",
    "results = global_fit.results"
   ]
  },
  {
   "cell_type": "code",
   "execution_count": 7,
   "metadata": {},
   "outputs": [
    {
     "name": "stdout",
     "output_type": "stream",
     "text": [
      "================================================================================\n",
      " Fitting results\n",
      "================================================================================\n",
      " ID: Test\n",
      " Model: Test\n",
      " Optimiser: pyfolding.GlobalFit and scipy.optimize.curve_fit\n",
      " Temperature: 25.00°C\n",
      "\n",
      " (f) m 1.49962e+00 ± 1.65441e-01 \t 95% CI[1.45780e+00, 1.54144e+00]\n",
      " (f) c 2.00093e+00 ± 5.71738e-01 \t 95% CI[1.85641e+00, 2.14545e+00]\n",
      "--------------------------------------------------------------------------------\n",
      " R^2: \t0.45590\n",
      " DOF: \t98\n",
      "|SS|: \t4.93e+02\n",
      "================================================================================\n",
      "\n",
      "\n"
     ]
    }
   ],
   "source": [
    "for r in results: \n",
    "    r.display()"
   ]
  },
  {
   "cell_type": "code",
   "execution_count": 8,
   "metadata": {},
   "outputs": [
    {
     "data": {
      "image/png": "[encoded data removed]",
      "text/plain": [
       "<matplotlib.figure.Figure at 0x110deed50>"
      ]
     },
     "metadata": {},
     "output_type": "display_data"
    }
   ],
   "source": [
    "plt.figure(figsize=(12,5))\n",
    "plt.subplot(1,2,1)\n",
    "plt.plot(x,y,'ko')\n",
    "\n",
    "# plot the fitting curve with the fitted result parameter\n",
    "for r in results:\n",
    "    plt.plot(r.x_fit,r.y_fit,'r-')\n",
    "    plt.title('With weights')\n",
    "plt.subplot(1,2,2)\n",
    "plt.plot(x,w,'go-')\n",
    "plt.title('Weights')\n",
    "plt.show()"
   ]
  },
  {
   "cell_type": "markdown",
   "metadata": {},
   "source": [
    "## Now try without weights... ##"
   ]
  },
  {
   "cell_type": "code",
   "execution_count": 9,
   "metadata": {
    "collapsed": true
   },
   "outputs": [],
   "source": [
    "# start by setting up a GlobalFit object\n",
    "global_fit = pyfolding.GlobalFit()\n",
    "global_fit.fit_funcs = (Test,)\n",
    "global_fit.x = (x,) \n",
    "global_fit.y = (y,)\n",
    "#global_fit.weights = (w,)\n",
    "global_fit.ID = ['Test']\n",
    "global_fit.shared = []\n",
    "global_fit.initialise()"
   ]
  },
  {
   "cell_type": "code",
   "execution_count": 10,
   "metadata": {},
   "outputs": [
    {
     "name": "stdout",
     "output_type": "stream",
     "text": [
      "['m_{Test}', 'c_{Test}']\n"
     ]
    }
   ],
   "source": [
    "# find out the order of params for p0\n",
    "print global_fit.params.keys()"
   ]
  },
  {
   "cell_type": "code",
   "execution_count": 11,
   "metadata": {
    "collapsed": true
   },
   "outputs": [],
   "source": [
    "# set some reasonable starting parameters for the fit\n",
    "p0 = np.array([1.,1.])\n",
    "#bounds = [[1e6,1e6,1e6], [1e10,1e10,1e9]]\n",
    "\n",
    "# run the fit and get the results\n",
    "_,_ = global_fit.fit(p0=p0)\n",
    "results = global_fit.results"
   ]
  },
  {
   "cell_type": "code",
   "execution_count": 12,
   "metadata": {},
   "outputs": [
    {
     "name": "stdout",
     "output_type": "stream",
     "text": [
      "================================================================================\n",
      " Fitting results\n",
      "================================================================================\n",
      " ID: Test\n",
      " Model: Test\n",
      " Optimiser: pyfolding.GlobalFit and scipy.optimize.curve_fit\n",
      " Temperature: 25.00°C\n",
      "\n",
      " (f) m 9.69847e-01 ± 3.56695e-02 \t 95% CI[9.60831e-01, 9.78863e-01]\n",
      " (f) c 3.43258e+00 ± 2.06457e-01 \t 95% CI[3.38040e+00, 3.48477e+00]\n",
      "--------------------------------------------------------------------------------\n",
      " R^2: \t0.88296\n",
      " DOF: \t98\n",
      "|SS|: \t1.06e+02\n",
      "================================================================================\n",
      "\n",
      "\n"
     ]
    }
   ],
   "source": [
    "for r in results: \n",
    "    r.display()"
   ]
  },
  {
   "cell_type": "code",
   "execution_count": 13,
   "metadata": {},
   "outputs": [
    {
     "data": {
      "image/png": "[encoded data removed]",
      "text/plain": [
       "<matplotlib.figure.Figure at 0x110deeb50>"
      ]
     },
     "metadata": {},
     "output_type": "display_data"
    }
   ],
   "source": [
    "plt.figure(figsize=(12,5))\n",
    "plt.subplot(1,2,1)\n",
    "plt.plot(x,y,'ko')\n",
    "\n",
    "# plot the fitting curve with the fitted result parameter\n",
    "for r in results:\n",
    "    plt.plot(r.x_fit,r.y_fit,'r-')\n",
    "plt.title('Without weights')\n",
    "plt.show()"
   ]
  },
  {
   "cell_type": "markdown",
   "metadata": {},
   "source": []
  },
  {
   "cell_type": "code",
   "execution_count": null,
   "metadata": {
    "collapsed": true
   },
   "outputs": [],
   "source": []
  }
 ],
 "metadata": {
  "kernelspec": {
   "display_name": "Python 2",
   "language": "python",
   "name": "python2"
  },
  "language_info": {
   "codemirror_mode": {
    "name": "ipython",
    "version": 2
   },
   "file_extension": ".py",
   "mimetype": "text/x-python",
   "name": "python",
   "nbconvert_exporter": "python",
   "pygments_lexer": "ipython2",
   "version": "2.7.13"
  }
 },
 "nbformat": 4,
 "nbformat_minor": 2
}

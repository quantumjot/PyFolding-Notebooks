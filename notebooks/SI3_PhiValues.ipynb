{
 "cells": [
  {
   "cell_type": "markdown",
   "metadata": {},
   "source": [
    "# PyFolding SI Notebook 3\n",
    "---\n",
    "\n",
    "[Author] ERGM\n",
    "\n",
    "---\n",
    "\n",
    "\n",
    "## Performing and automating higher-level calculations such as Delta Gs & Phi-value analysis \n",
    "\n",
    "In this notebook we will show how imported and fitted equilbrium and kinetic folding data (as per PyFolding SI Notebooks 1 and 2) can be associated with a particular protein (say WT or a mutant).  This enables higher higher-level calculations such as &#916;Gs & Phi-value analysis to be achieved (also shown here).\n",
    "\n",
    "If you are less script/computer orientated, you can simply change the data paths/variables, etc for your proteins and re-run the jupyter notebook ( \"Kernal/Restart & Run all\" from the menu above).\n",
    "\n",
    "---\n",
    "\n",
    "### Data Format\n",
    "\n",
    "Please see PyFolding SI Notebooks 1 and 2 for the format your data has to be in to enable this type of analysis.\n",
    "\n",
    "---"
   ]
  },
  {
   "cell_type": "code",
   "execution_count": 1,
   "metadata": {},
   "outputs": [
    {
     "data": {
      "application/javascript": [
       "\n",
       "\tIPython.OutputArea.prototype._should_scroll = function(lines) {\n",
       "\t    return false;\n",
       "\t}\n",
       "\t"
      ],
      "text/plain": [
       "<IPython.core.display.Javascript object>"
      ]
     },
     "metadata": {},
     "output_type": "display_data"
    },
    {
     "name": "stdout",
     "output_type": "stream",
     "text": [
      "PyFolding: Jupyter autoscrolling has been disabled\n"
     ]
    }
   ],
   "source": [
    "#  First off lets load pyfolding & pyplot into this ipython notebook \n",
    "#(pyplot allows us to plot more complex figures of our results):\n",
    "\n",
    "%matplotlib inline\n",
    "\n",
    "# import pyfolding, the pyfolding models and ising models\n",
    "import pyfolding\n",
    "from pyfolding import *\n",
    "\n",
    "# import the package for plotting, call it plt\n",
    "import matplotlib.pyplot as plt\n",
    "\n",
    "# import numpy as well\n",
    "import numpy as np"
   ]
  },
  {
   "cell_type": "markdown",
   "metadata": {},
   "source": [
    "---\n",
    "\n",
    "#### Now, we need to load some data to analyse.\n",
    "\n",
    "In this notebook I will be using data that I have digitized from the papers below:\n",
    "\n",
    "```\n",
    "Folding of chymotrypsin inhibitor 2. 1. Evidence for a two-state transition.\n",
    "Jackson, S. E. & Fersht, A. R.\n",
    "Biochemistry 30, 10428–10435 (1991).\n",
    "\n",
    "Structure of the hydrophobic core in the transition state for folding of \n",
    "chymotrypsin inhibitor 2: a critical test of the protein engineering \n",
    "method of analysis.\n",
    "Jackson, S. E., elMasry, N. & Fersht, A. R.\n",
    "Biochemistry 32, 11270–11278 (1993).\n",
    "\n",
    "\n",
    "```\n",
    "[http://pubs.acs.org/doi/abs/10.1021/bi00107a010 & http://pubs.acs.org/doi/abs/10.1021/bi00093a002]\n",
    "\n",
    "---\n"
   ]
  },
  {
   "cell_type": "code",
   "execution_count": 2,
   "metadata": {
    "collapsed": true
   },
   "outputs": [],
   "source": [
    "# start by loading a data set\n",
    "# arguments are \"path\", \"filename\"\n",
    "# We will do Equilm and Kinetics all together\n",
    "\n",
    "pth = \"../examples/CI2/\"\n",
    "\n",
    "#load CI2 WT equilm and kinetics\n",
    "EquilmWT_CI2 = pyfolding.read_equilibrium_data(pth,\"CI2_WT_Equilm.csv\")\n",
    "KineticsWT_CI2 = pyfolding.read_kinetic_data(pth,\"CI2_WT_Kinetics.csv\")\n",
    "\n",
    "# load CI2 Mutant VA38\n",
    "EquilmVA38_CI2 = pyfolding.read_equilibrium_data(pth,\"CI2_VA38_Equilm.csv\")\n",
    "KineticsVA38_CI2 = pyfolding.read_kinetic_data(pth,\"CI2_VA38_Kinetics.csv\")\n",
    "\n",
    "\n",
    "# load CI2 Mutant VA66\n",
    "EquilmVA66_CI2 = pyfolding.read_equilibrium_data(pth,\"CI2_VA66_Equilm.csv\")\n",
    "KineticsVA66_CI2 = pyfolding.read_kinetic_data(pth,\"CI2_VA66_Kinetics.csv\")\n",
    "\n",
    "\n",
    "# load CI2 Mutant IV48\n",
    "EquilmIV48_CI2 = pyfolding.read_equilibrium_data(pth,\"CI2_IV48_Equilm.csv\")\n",
    "KineticsIV48_CI2 = pyfolding.read_kinetic_data(pth,\"CI2_IV48_Kinetics.csv\")\n"
   ]
  },
  {
   "cell_type": "markdown",
   "metadata": {},
   "source": [
    "---\n",
    "\n",
    "### OK, to perform and automate higher-level calculations such as &#916;Gs & Phi-value analysis\n",
    "\n",
    "1st we need to assign data to a specific protein by making a \"protein object\" \n",
    "\n",
    "---\n",
    "\n"
   ]
  },
  {
   "cell_type": "code",
   "execution_count": 3,
   "metadata": {
    "collapsed": true
   },
   "outputs": [],
   "source": [
    "#assign WT\n",
    "WT = pyfolding.Protein(ID=\"CI2_WT\")     # creating CI2_WT protein object \n",
    "WT.equilibrium = EquilmWT_CI2           # assigning equilm data to the CI2_WT protein object\n",
    "WT.chevron = KineticsWT_CI2             # assigning kinetic data to the CI2_WT protein object\n",
    "\n",
    "#assign VA38\n",
    "VA38 = pyfolding.Protein(ID=\"CI2_VA38\") # creating CI2_WT protein object \n",
    "VA38.equilibrium = EquilmVA38_CI2       # assigning equilm data to the CI2_WT protein object\n",
    "VA38.chevron = KineticsVA38_CI2         # assigning kinetic data to the CI2_WT protein object\n",
    "\n",
    "#assign VA66\n",
    "VA66 = pyfolding.Protein(ID=\"CI2_VA66\") # creating CI2_WT protein object \n",
    "VA66.equilibrium = EquilmVA66_CI2       # assigning equilm data to the CI2_WT protein object\n",
    "VA66.chevron = KineticsVA66_CI2         # assigning kinetic data to the CI2_WT protein object\n",
    "\n",
    "#assign IV48\n",
    "IV48 = pyfolding.Protein(ID=\"CI2_IV48\") # creating CI2_WT protein object \n",
    "IV48.equilibrium = EquilmIV48_CI2       # assigning equilm data to the CI2_WT protein object\n",
    "IV48.chevron = KineticsIV48_CI2         # assigning kinetic data to the CI2_WT protein object\n",
    "\n",
    "# lets put these in a python list for later on!\n",
    "Proteins = [WT, \n",
    "            VA38, \n",
    "            VA66, \n",
    "            IV48]\n"
   ]
  },
  {
   "cell_type": "code",
   "execution_count": 4,
   "metadata": {
    "collapsed": true
   },
   "outputs": [],
   "source": [
    "# make a python list of the data so we can fit data together and check everything \n",
    "#loaded correctly\n",
    "\n",
    "Equilm_curves = [EquilmWT_CI2, \n",
    "                 EquilmVA38_CI2,\n",
    "                 EquilmVA66_CI2,\n",
    "                 EquilmIV48_CI2]\n",
    "\n",
    "Kinetic_chevrons = [KineticsWT_CI2, \n",
    "                    KineticsVA38_CI2, \n",
    "                    KineticsVA66_CI2,\n",
    "                    KineticsIV48_CI2]"
   ]
  },
  {
   "cell_type": "markdown",
   "metadata": {},
   "source": [
    "---\n",
    "\n",
    "### Now we need to fit the data.  \n",
    "In a similar manner to previous notebooks, we can save time by getting PyFolding to automate the fitting all our data to the model we want:\n",
    "\n",
    "---\n"
   ]
  },
  {
   "cell_type": "code",
   "execution_count": 5,
   "metadata": {},
   "outputs": [
    {
     "name": "stdout",
     "output_type": "stream",
     "text": [
      "Set temperature to 25.00°C\n",
      "(NOTE: Careful, this sets the temperature for all subsequent calculations)\n",
      "================================================================================\n",
      "Fitting results\n",
      "================================================================================\n",
      "ID: CI2_WT_Equilm\n",
      "Model: TwoStateEquilibrium\n",
      "Optimiser: pyfolding.GlobalFit and scipy.optimize.curve_fit\n",
      "Temperature: 25.00°C\n",
      "\n",
      "(f) m      1.86581 ± 0.00075    \t 95% CI[   1.86563,    1.86600]\n",
      "(f) d50    3.98689 ± 0.00013    \t 95% CI[   3.98686,    3.98693]\n",
      "--------------------------------------------------------------------------------\n",
      "R^2: 0.99809\n",
      "================================================================================\n",
      "\n",
      "\n",
      "================================================================================\n",
      "Fitting results\n",
      "================================================================================\n",
      "ID: CI2_VA38_Equilm\n",
      "Model: TwoStateEquilibrium\n",
      "Optimiser: pyfolding.GlobalFit and scipy.optimize.curve_fit\n",
      "Temperature: 25.00°C\n",
      "\n",
      "(f) m      2.00158 ± 0.00122    \t 95% CI[   2.00127,    2.00188]\n",
      "(f) d50    3.74752 ± 0.00019    \t 95% CI[   3.74748,    3.74757]\n",
      "--------------------------------------------------------------------------------\n",
      "R^2: 0.99720\n",
      "================================================================================\n",
      "\n",
      "\n",
      "================================================================================\n",
      "Fitting results\n",
      "================================================================================\n",
      "ID: CI2_VA66_Equilm\n",
      "Model: TwoStateEquilibrium\n",
      "Optimiser: pyfolding.GlobalFit and scipy.optimize.curve_fit\n",
      "Temperature: 25.00°C\n",
      "\n",
      "(f) m      1.74742 ± 0.00193    \t 95% CI[   1.74693,    1.74790]\n",
      "(f) d50    1.45999 ± 0.00042    \t 95% CI[   1.45989,    1.46010]\n",
      "--------------------------------------------------------------------------------\n",
      "R^2: 0.99391\n",
      "================================================================================\n",
      "\n",
      "\n",
      "================================================================================\n",
      "Fitting results\n",
      "================================================================================\n",
      "ID: CI2_IV48_Equilm\n",
      "Model: TwoStateEquilibrium\n",
      "Optimiser: pyfolding.GlobalFit and scipy.optimize.curve_fit\n",
      "Temperature: 25.00°C\n",
      "\n",
      "(f) m      1.96731 ± 0.00168    \t 95% CI[   1.96689,    1.96773]\n",
      "(f) d50    3.40891 ± 0.00026    \t 95% CI[   3.40884,    3.40897]\n",
      "--------------------------------------------------------------------------------\n",
      "R^2: 0.99645\n",
      "================================================================================\n",
      "\n",
      "\n"
     ]
    }
   ],
   "source": [
    "# Set temperature to 25.00°C\n",
    "# (NOTE: Careful, this sets the temperature for all subsequent calculations)\n",
    "pyfolding.set_temperature(25.)\n",
    "\n",
    "# fit all the data automatically\n",
    "\n",
    "# first lets fit the equilibrium denaturations (we will be using the lists we defined above in cell [5])\n",
    "for c in Equilm_curves: \n",
    "    c.fit_func = models.TwoStateEquilibrium\n",
    "    c.fit(p0=[3, 2])  "
   ]
  },
  {
   "cell_type": "code",
   "execution_count": 6,
   "metadata": {},
   "outputs": [
    {
     "data": {
      "image/png": "[encoded data removed]",
      "text/plain": [
       "<matplotlib.figure.Figure at 0x10deafe50>"
      ]
     },
     "metadata": {},
     "output_type": "display_data"
    }
   ],
   "source": [
    "# Before we go further lets check everything looks good!\n",
    "\n",
    "# the following commands plot all the Equilm curves & fits on one plot\n",
    "\n",
    "plt.figure(figsize=(10,6))\n",
    "for c in Equilm_curves:\n",
    "    plt.plot(c.results.x_fit, c.results.y_fit, '-')\n",
    "for c in Equilm_curves:\n",
    "    plt.plot(c.x, c.y, '.')\n",
    "\n",
    "# This is to make the plot look good!  \n",
    "\n",
    "plt.legend([c.ID for c in Equilm_curves], loc='best') # plots a legend & 'loc\" command determines where it goes.  \n",
    "plt.title(\"CI2 Equilm Denaturations\")                 # plots a title.\n",
    "plt.ylim([-0.1, 1.1])                                 # y axis from 0 to 8\n",
    "plt.xlim([0, 6])                                      # x axis from 0 to 5\n",
    "plt.show()    \n"
   ]
  },
  {
   "cell_type": "code",
   "execution_count": 14,
   "metadata": {},
   "outputs": [
    {
     "name": "stdout",
     "output_type": "stream",
     "text": [
      "================================================================================\n",
      "Fitting results\n",
      "================================================================================\n",
      "ID: CI2_WT_Kinetics\n",
      "Model: TwoStateChevron\n",
      "Optimiser: pyfolding.GlobalFit and scipy.optimize.curve_fit\n",
      "Temperature: 25.00°C\n",
      "\n",
      "(f) kf   57.74792 ± 0.08261    \t 95% CI[  57.72761,   57.76823]\n",
      "(f) mf    1.90608 ± 0.00111    \t 95% CI[   1.90581,    1.90636]\n",
      "(f) ku    0.00013 ± 0.00000    \t 95% CI[   0.00013,    0.00013]\n",
      "(f) mu    1.29050 ± 0.00248    \t 95% CI[   1.28989,    1.29111]\n",
      "--------------------------------------------------------------------------------\n",
      "R^2: 0.99939\n",
      "================================================================================\n",
      "\n",
      "\n",
      "================================================================================\n",
      "Fitting results\n",
      "================================================================================\n",
      "ID: CI2_VA38_Kinetics\n",
      "Model: TwoStateChevron\n",
      "Optimiser: pyfolding.GlobalFit and scipy.optimize.curve_fit\n",
      "Temperature: 25.00°C\n",
      "\n",
      "(f) kf   70.14623 ± 0.05693    \t 95% CI[  70.13226,   70.16019]\n",
      "(f) mf    1.81407 ± 0.00055    \t 95% CI[   1.81393,    1.81420]\n",
      "(f) ku    0.00037 ± 0.00000    \t 95% CI[   0.00037,    0.00037]\n",
      "(f) mu    1.37146 ± 0.00121    \t 95% CI[   1.37116,    1.37175]\n",
      "--------------------------------------------------------------------------------\n",
      "R^2: 0.99960\n",
      "================================================================================\n",
      "\n",
      "\n",
      "================================================================================\n",
      "Fitting results\n",
      "================================================================================\n",
      "ID: CI2_VA66_Kinetics\n",
      "Model: TwoStateChevron\n",
      "Optimiser: pyfolding.GlobalFit and scipy.optimize.curve_fit\n",
      "Temperature: 25.00°C\n",
      "\n",
      "(f) kf    9.26632 ± 0.02154    \t 95% CI[   9.26103,    9.27160]\n",
      "(f) mf    2.33134 ± 0.00486    \t 95% CI[   2.33015,    2.33253]\n",
      "(f) ku    0.04530 ± 0.00070    \t 95% CI[   0.04512,    0.04547]\n",
      "(f) mu    1.41589 ± 0.00482    \t 95% CI[   1.41471,    1.41707]\n",
      "--------------------------------------------------------------------------------\n",
      "R^2: 0.99325\n",
      "================================================================================\n",
      "\n",
      "\n",
      "================================================================================\n",
      "Fitting results\n",
      "================================================================================\n",
      "ID: CI2_IV48_Kinetics\n",
      "Model: TwoStateChevron\n",
      "Optimiser: pyfolding.GlobalFit and scipy.optimize.curve_fit\n",
      "Temperature: 25.00°C\n",
      "\n",
      "(f) kf    9.92141 ± 0.03494    \t 95% CI[   9.91292,    9.92990]\n",
      "(f) mf    2.50768 ± 0.00590    \t 95% CI[   2.50624,    2.50911]\n",
      "(f) ku    0.01212 ± 0.00017    \t 95% CI[   0.01208,    0.01216]\n",
      "(f) mu    1.11975 ± 0.00319    \t 95% CI[   1.11897,    1.12052]\n",
      "--------------------------------------------------------------------------------\n",
      "R^2: 0.99578\n",
      "================================================================================\n",
      "\n",
      "\n"
     ]
    }
   ],
   "source": [
    "# Now lets fit the kinetics\n",
    "for c in Kinetic_chevrons: \n",
    "    c.fit_func = models.TwoStateChevron\n",
    "    c.fit()"
   ]
  },
  {
   "cell_type": "code",
   "execution_count": 8,
   "metadata": {},
   "outputs": [
    {
     "data": {
      "image/png": "[encoded data removed]",
      "text/plain": [
       "<matplotlib.figure.Figure at 0x10deaf890>"
      ]
     },
     "metadata": {},
     "output_type": "display_data"
    }
   ],
   "source": [
    "# Again,before we go further lets check everything looks good!\n",
    "\n",
    "# the following commands plot all the kinetics on one plot\n",
    "plt.figure(figsize=(10,6))\n",
    "for c in Kinetic_chevrons:\n",
    "    plt.plot(c.results.x_fit, c.results.y_fit, '-')\n",
    "for c in Kinetic_chevrons:\n",
    "    plt.plot(c.x, c.y, '.')\n",
    "    \n",
    "# as before this is to make the plot look good!  \n",
    "\n",
    "plt.legend([c.ID for c in Kinetic_chevrons], loc='best')  # plots a legend & 'loc\" command determines where it goes.  \n",
    "plt.title(\"CI2\")                                          # plots a title.\n",
    "plt.ylim([-5, 5])                                         # y axis from 0 to 8\n",
    "plt.xlim([0, 7])                                          # x axis from 0 to 5\n",
    "plt.show()    \n",
    "\n",
    "  "
   ]
  },
  {
   "cell_type": "markdown",
   "metadata": {},
   "source": [
    "---\n",
    "\n",
    "### Now lets perform and automate some higher-level calculations such as Delta Gs & Phi-value analysis :\n",
    "\n",
    "---\n",
    "\n"
   ]
  },
  {
   "cell_type": "code",
   "execution_count": 9,
   "metadata": {},
   "outputs": [
    {
     "name": "stdout",
     "output_type": "stream",
     "text": [
      "7.43880166046\n"
     ]
    }
   ],
   "source": [
    "# Lets start with the free energy of unfolding (ΔGD-N) [calculated from the equilm m-value and midpoint] \n",
    "# we can get an individual values for each protein by calling up our protein objects we defined right at the start of this notebook {in cell (3)}  \n",
    "# Lets try it for WT\n",
    "\n",
    "print WT.deltaG\n",
    "\n"
   ]
  },
  {
   "cell_type": "code",
   "execution_count": 10,
   "metadata": {},
   "outputs": [
    {
     "name": "stdout",
     "output_type": "stream",
     "text": [
      "CI2_WT --> delta G: 7.44\n",
      "CI2_VA38 --> delta G: 7.50\n",
      "CI2_VA66 --> delta G: 2.55\n",
      "CI2_IV48 --> delta G: 6.71\n"
     ]
    }
   ],
   "source": [
    "# Now we can automate with the list we created at the start of this notebook {in cell (3)}\n",
    "# from the list in cell (3) the order should be: WT, VA38, VA66 & IV48\n",
    "\n",
    "for c in Proteins:\n",
    "    print \"{0:s} --> delta G: {1:.2f}\".format(c.ID, c.deltaG)"
   ]
  },
  {
   "cell_type": "markdown",
   "metadata": {},
   "source": [
    "---\n",
    "\n",
    "#### The values from the paper are:\n",
    "\n",
    "Protein  | delta G\n",
    ":------  |:--------\n",
    "WT       | 7.53\n",
    "VA38     | 7.54\n",
    "VA66     | 2.57\n",
    "IV48     | 6.80 \n",
    "\n",
    "---"
   ]
  },
  {
   "cell_type": "code",
   "execution_count": 11,
   "metadata": {},
   "outputs": [
    {
     "name": "stdout",
     "output_type": "stream",
     "text": [
      "4.88758792146 0.354099720978\n"
     ]
    }
   ],
   "source": [
    "# We can also do calculations on any of the data we have. \n",
    "#Lets calculate some DDG values for VA66 \n",
    "\n",
    "# Stability change in water between VA66 and WT (i.e. DDG from Equilibrium curves)\n",
    "ddg = WT.deltaG - VA66.deltaG\n",
    "\n",
    "# Free Energy change between Denatured and Transition State between VA66 and WT \n",
    "#(i.e. DDG from folding rates in water)\n",
    "\n",
    "ddts = constants.RT * np.log(WT.kf_H20 / VA66.kf_H20)\n",
    "\n",
    "print ddg, ddts\n"
   ]
  },
  {
   "cell_type": "code",
   "execution_count": 12,
   "metadata": {},
   "outputs": [
    {
     "name": "stdout",
     "output_type": "stream",
     "text": [
      "0.0724487675042\n"
     ]
    }
   ],
   "source": [
    "# Lets finish by calculating some Phi Values\n",
    "# we can get an individual value by calling up our protein objects we defined \n",
    "# at the start of this notebook {in cell (3)}  \n",
    "# Lets try it for the mutant VA38\n",
    "\n",
    "from pyfolding.phi import phi\n",
    "        \n",
    "PhiValue = phi(WT,VA66)\n",
    "\n",
    "print PhiValue"
   ]
  },
  {
   "cell_type": "code",
   "execution_count": 13,
   "metadata": {},
   "outputs": [
    {
     "name": "stdout",
     "output_type": "stream",
     "text": [
      "CI2_VA38 --> Phi value: 0.45\n",
      "CI2_VA66 --> Phi value: 0.07\n",
      "CI2_IV48 --> Phi value: 0.46\n"
     ]
    }
   ],
   "source": [
    "# Now we can automate with the list we created also at the start of this notebook {in cell (3)}\n",
    "# from the list in cell (3) the order should be a Phi value for VA38, IV48 & IA48\n",
    "mut_proteins = Proteins[1:]\n",
    "\n",
    "for c in mut_proteins:\n",
    "    c_phi_value = phi(WT, c)\n",
    "    print \"{0:s} --> Phi value: {1:.2f}\".format(c.ID, c_phi_value)"
   ]
  },
  {
   "cell_type": "markdown",
   "metadata": {},
   "source": [
    "---\n",
    "\n",
    "### As you can see this works.  YAY!\n",
    "\n",
    "#### However, the final Phi values are different from the original CI2 paper due to errors from digitizing the data.\n",
    "\n",
    "CI2_VA38 --> Phi value: 0.45\n",
    "CI2_VA66 --> Phi value: 0.23\n",
    "CI2_IV48 --> Phi value: 0.29\n",
    "\n",
    "For example, VA38 - has a very small difference in stability from WT.  Thus when digitising this causes a large error in the reported Phi values.\n",
    "\n",
    "---\n"
   ]
  },
  {
   "cell_type": "markdown",
   "metadata": {
    "collapsed": true
   },
   "source": [
    "---\n",
    "\n",
    "### End of this Notebook.\n",
    "\n",
    "---"
   ]
  },
  {
   "cell_type": "code",
   "execution_count": null,
   "metadata": {
    "collapsed": true
   },
   "outputs": [],
   "source": []
  }
 ],
 "metadata": {
  "kernelspec": {
   "display_name": "Python 2",
   "language": "python",
   "name": "python2"
  },
  "language_info": {
   "codemirror_mode": {
    "name": "ipython",
    "version": 2
   },
   "file_extension": ".py",
   "mimetype": "text/x-python",
   "name": "python",
   "nbconvert_exporter": "python",
   "pygments_lexer": "ipython2",
   "version": "2.7.13"
  }
 },
 "nbformat": 4,
 "nbformat_minor": 1
}
